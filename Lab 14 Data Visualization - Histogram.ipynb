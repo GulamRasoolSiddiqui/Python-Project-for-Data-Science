{
 "cells": [
  {
   "cell_type": "markdown",
   "metadata": {},
   "source": [
    "<p style=\"text-align:center\">\n",
    "    <a href=\"https://skills.network\" target=\"_blank\">\n",
    "    <img src=\"https://cf-courses-data.s3.us.cloud-object-storage.appdomain.cloud/assets/logos/SN_web_lightmode.png\" width=\"200\" alt=\"Skills Network Logo\"  />\n",
    "    </a>\n",
    "</p>\n"
   ]
  },
  {
   "cell_type": "markdown",
   "metadata": {},
   "source": [
    "# **Histogram**\n"
   ]
  },
  {
   "cell_type": "markdown",
   "metadata": {},
   "source": [
    "Estimated time needed: **45** minutes\n"
   ]
  },
  {
   "cell_type": "markdown",
   "metadata": {},
   "source": [
    "In this lab, you will focus on the visualization of data. The dataset will be provided through an RDBMS, and you will need to use SQL queries to extract the required data.\n"
   ]
  },
  {
   "cell_type": "markdown",
   "metadata": {},
   "source": [
    "## Objectives\n"
   ]
  },
  {
   "cell_type": "markdown",
   "metadata": {},
   "source": [
    "In this lab, you will perform the following:\n"
   ]
  },
  {
   "cell_type": "markdown",
   "metadata": {},
   "source": [
    "- Visualize the distribution of data using histograms.\n",
    "\n",
    "- Visualize relationships between features.\n",
    "\n",
    "- Explore data composition and comparisons.\n"
   ]
  },
  {
   "cell_type": "markdown",
   "metadata": {},
   "source": [
    "## Demo: Working with database\n"
   ]
  },
  {
   "cell_type": "markdown",
   "metadata": {},
   "source": [
    "#### Download the database file.\n"
   ]
  },
  {
   "cell_type": "code",
   "execution_count": null,
   "metadata": {},
   "outputs": [],
   "source": [
    "!wget -O survey-data.sqlite https://cf-courses-data.s3.us.cloud-object-storage.appdomain.cloud/QR9YeprUYhOoLafzlLspAw/survey-results-public.sqlite"
   ]
  },
  {
   "cell_type": "markdown",
   "metadata": {},
   "source": [
    "#### Install the required libraries and import them\n"
   ]
  },
  {
   "cell_type": "code",
   "execution_count": null,
   "metadata": {},
   "outputs": [],
   "source": [
    "!pip install pandas"
   ]
  },
  {
   "cell_type": "code",
   "execution_count": null,
   "metadata": {},
   "outputs": [],
   "source": [
    "!pip install matplotlib"
   ]
  },
  {
   "cell_type": "code",
   "execution_count": null,
   "metadata": {},
   "outputs": [],
   "source": [
    "import sqlite3\n",
    "import pandas as pd\n",
    "import matplotlib.pyplot as plt"
   ]
  },
  {
   "cell_type": "markdown",
   "metadata": {},
   "source": [
    "#### Connect to the SQLite database\n"
   ]
  },
  {
   "cell_type": "code",
   "execution_count": null,
   "metadata": {},
   "outputs": [],
   "source": [
    "conn = sqlite3.connect('survey-data.sqlite')"
   ]
  },
  {
   "cell_type": "markdown",
   "metadata": {},
   "source": [
    "## Demo: Basic SQL queries\n",
    "\n",
    "**Demo 1: Count the number of rows in the table**\n"
   ]
  },
  {
   "cell_type": "code",
   "execution_count": null,
   "metadata": {},
   "outputs": [],
   "source": [
    "QUERY = \"SELECT COUNT(*) FROM main\"\n",
    "df = pd.read_sql_query(QUERY, conn)\n",
    "print(df)\n"
   ]
  },
  {
   "cell_type": "markdown",
   "metadata": {},
   "source": [
    "**Demo 2: List all tables**\n"
   ]
  },
  {
   "cell_type": "code",
   "execution_count": null,
   "metadata": {},
   "outputs": [],
   "source": [
    "QUERY = \"\"\"\n",
    "SELECT name as Table_Name \n",
    "FROM sqlite_master \n",
    "WHERE type = 'table'\n",
    "\"\"\"\n",
    "pd.read_sql_query(QUERY, conn)\n"
   ]
  },
  {
   "cell_type": "markdown",
   "metadata": {},
   "source": [
    "**Demo 3: Group data by age**\n"
   ]
  },
  {
   "cell_type": "code",
   "execution_count": null,
   "metadata": {},
   "outputs": [],
   "source": [
    "QUERY = \"\"\"\n",
    "SELECT Age, COUNT(*) as count \n",
    "FROM main \n",
    "GROUP BY Age \n",
    "ORDER BY Age\n",
    "\"\"\"\n",
    "df_age = pd.read_sql_query(QUERY, conn)\n",
    "print(df_age)\n"
   ]
  },
  {
   "cell_type": "code",
   "execution_count": null,
   "metadata": {},
   "outputs": [],
   "source": [
    "def create_histogram_suite(df):\n",
    "    \"\"\"\n",
    "    Creates comprehensive suite of histograms for data analysis\n",
    "    \"\"\"\n",
    "    # Create figure layout\n",
    "    fig = plt.figure(figsize=(20, 25))\n",
    "    gs = fig.add_gridspec(4, 2)\n",
    "    \n",
    "    # 1.1 CompTotal Histogram\n",
    "    ax1 = fig.add_subplot(gs[0, 0])\n",
    "    sns.histplot(data=df, x='CompTotal', bins=50, ax=ax1)\n",
    "    ax1.set_title('Distribution of Total Compensation')\n",
    "    \n",
    "    # 1.2 YearsCodePro Histogram\n",
    "    ax2 = fig.add_subplot(gs[0, 1])\n",
    "    sns.histplot(data=df, x='YearsCodePro', bins=30, ax=ax2)\n",
    "    ax2.set_title('Years of Professional Coding Experience')\n",
    "    \n",
    "    # 2.1 CompTotal by Age Group\n",
    "    ax3 = fig.add_subplot(gs[1, 0])\n",
    "    sns.histplot(data=df, x='CompTotal', hue='Age', multiple=\"stack\", ax=ax3)\n",
    "    ax3.set_title('Compensation Distribution by Age Group')\n",
    "    \n",
    "    # 2.2 TimeSearching by Age Group\n",
    "    ax4 = fig.add_subplot(gs[1, 1])\n",
    "    sns.histplot(data=df, x='TimeSearching_Num', hue='Age', multiple=\"stack\", ax=ax4)\n",
    "    ax4.set_title('Time Searching Distribution by Age')\n",
    "    \n",
    "    # 3.1 Desired Databases\n",
    "    ax5 = fig.add_subplot(gs[2, 0])\n",
    "    db_counts = df['DatabaseWantToWorkWith'].str.split(';').explode().value_counts()\n",
    "    sns.barplot(x=db_counts.head(10).values, y=db_counts.head(10).index, ax=ax5)\n",
    "    ax5.set_title('Top 10 Desired Databases')\n",
    "    \n",
    "    # 3.2 Remote Work Preferences\n",
    "    ax6 = fig.add_subplot(gs[2, 1])\n",
    "    sns.histplot(data=df, x='RemoteWork', ax=ax6)\n",
    "    ax6.set_title('Remote Work Preferences')\n",
    "    \n",
    "    # 4.1 CompTotal for Ages 45-60\n",
    "    ax7 = fig.add_subplot(gs[3, 0])\n",
    "    age_mask = (df['Age_Numeric'] >= 45) & (df['Age_Numeric'] <= 60)\n",
    "    sns.histplot(data=df[age_mask], x='CompTotal', ax=ax7)\n",
    "    ax7.set_title('Compensation Distribution (Ages 45-60)')\n",
    "    \n",
    "    # 4.2 Job Satisfaction by Experience\n",
    "    ax8 = fig.add_subplot(gs[3, 1])\n",
    "    sns.histplot(data=df, x='JobSat', hue='YearsCodePro', multiple=\"stack\", ax=ax8)\n",
    "    ax8.set_title('Job Satisfaction by Years of Experience')\n",
    "    \n",
    "    plt.tight_layout()\n",
    "    return fig\n",
    "# Execute visualization\n",
    "histogram_analysis = create_histogram_suite(df)\n"
   ]
  },
  {
   "cell_type": "markdown",
   "metadata": {},
   "source": [
    "## Hands-on Lab: Visualizing Data with Histograms\n"
   ]
  },
  {
   "cell_type": "markdown",
   "metadata": {},
   "source": [
    "### 1. Visualizing the distribution of data (Histograms)\n"
   ]
  },
  {
   "cell_type": "markdown",
   "metadata": {},
   "source": [
    "**1.1 Histogram of `CompTotal` (Total Compensation)**\n"
   ]
  },
  {
   "cell_type": "markdown",
   "metadata": {},
   "source": [
    "Objective: Plot a histogram of `CompTotal` to visualize the distribution of respondents' total compensation.\n"
   ]
  },
  {
   "cell_type": "code",
   "execution_count": null,
   "metadata": {},
   "outputs": [],
   "source": [
    "## Write your code here"
   ]
  },
  {
   "cell_type": "markdown",
   "metadata": {},
   "source": [
    "**1.2 Histogram of YearsCodePro (Years of Professional Coding Experience)**\n"
   ]
  },
  {
   "cell_type": "markdown",
   "metadata": {},
   "source": [
    "Objective: Plot a histogram of `YearsCodePro` to analyze the distribution of coding experience among respondents.\n"
   ]
  },
  {
   "cell_type": "code",
   "execution_count": null,
   "metadata": {},
   "outputs": [],
   "source": [
    "## Write your code here"
   ]
  },
  {
   "cell_type": "markdown",
   "metadata": {},
   "source": [
    "### 2. Visualizing Relationships in Data\n"
   ]
  },
  {
   "cell_type": "markdown",
   "metadata": {},
   "source": [
    "**2.1 Histogram Comparison of `CompTotal` by `Age` Group**\n"
   ]
  },
  {
   "cell_type": "markdown",
   "metadata": {},
   "source": [
    "Objective: Use histograms to compare the distribution of CompTotal across different Age groups.\n"
   ]
  },
  {
   "cell_type": "code",
   "execution_count": null,
   "metadata": {},
   "outputs": [],
   "source": [
    "## Write your code here"
   ]
  },
  {
   "cell_type": "markdown",
   "metadata": {},
   "source": [
    "**2.2 Histogram of TimeSearching for Different Age Groups**\n"
   ]
  },
  {
   "cell_type": "markdown",
   "metadata": {},
   "source": [
    "Objective: Use histograms to explore the distribution of `TimeSearching` (time spent searching for information) for respondents across different age groups.\n"
   ]
  },
  {
   "cell_type": "code",
   "execution_count": null,
   "metadata": {},
   "outputs": [],
   "source": [
    "## Write your code here"
   ]
  },
  {
   "cell_type": "markdown",
   "metadata": {},
   "source": [
    "### 3. Visualizing the Composition of Data\n"
   ]
  },
  {
   "cell_type": "markdown",
   "metadata": {},
   "source": [
    "**3.1 Histogram of Most Desired Databases (`DatabaseWantToWorkWith`)**\n"
   ]
  },
  {
   "cell_type": "markdown",
   "metadata": {},
   "source": [
    "Objective: Visualize the most desired databases for future learning using a histogram of the top 5 databases.\n"
   ]
  },
  {
   "cell_type": "code",
   "execution_count": null,
   "metadata": {},
   "outputs": [],
   "source": [
    "## Write your code here"
   ]
  },
  {
   "cell_type": "markdown",
   "metadata": {},
   "source": [
    "**3.2 Histogram of Preferred Work Locations (`RemoteWork`)**\n"
   ]
  },
  {
   "cell_type": "markdown",
   "metadata": {},
   "source": [
    "Objective: Use a histogram to explore the distribution of preferred work arrangements (`remote work`).\n"
   ]
  },
  {
   "cell_type": "code",
   "execution_count": null,
   "metadata": {},
   "outputs": [],
   "source": [
    "## Write your code here"
   ]
  },
  {
   "cell_type": "markdown",
   "metadata": {},
   "source": [
    "### 4. Visualizing Comparison of Data\n"
   ]
  },
  {
   "cell_type": "markdown",
   "metadata": {},
   "source": [
    "**4.1 Histogram of Median CompTotal for Ages 45 to 60**\n"
   ]
  },
  {
   "cell_type": "markdown",
   "metadata": {},
   "source": [
    "Objective: Plot the histogram for `CompTotal` within the age group 45 to 60 to analyze compensation distribution among mid-career respondents.\n"
   ]
  },
  {
   "cell_type": "code",
   "execution_count": null,
   "metadata": {},
   "outputs": [],
   "source": [
    "## Write your code here"
   ]
  },
  {
   "cell_type": "markdown",
   "metadata": {},
   "source": [
    "**4.2 Histogram of Job Satisfaction (`JobSat`) by YearsCodePro**\n"
   ]
  },
  {
   "cell_type": "markdown",
   "metadata": {},
   "source": [
    "Objective: Plot the histogram for `JobSat` scores based on respondents' years of professional coding experience.\n"
   ]
  },
  {
   "cell_type": "code",
   "execution_count": null,
   "metadata": {},
   "outputs": [],
   "source": [
    "## Write your code here"
   ]
  },
  {
   "cell_type": "markdown",
   "metadata": {},
   "source": [
    "### Final step: Close the database connection\n"
   ]
  },
  {
   "cell_type": "markdown",
   "metadata": {},
   "source": [
    "Once you've completed the lab, make sure to close the connection to the SQLite database:\n",
    "\n"
   ]
  },
  {
   "cell_type": "code",
   "execution_count": null,
   "metadata": {},
   "outputs": [],
   "source": [
    "conn.close()"
   ]
  },
  {
   "cell_type": "markdown",
   "metadata": {},
   "source": [
    "### Summary\n"
   ]
  },
  {
   "cell_type": "markdown",
   "metadata": {},
   "source": [
    "In this lab, you used histograms to visualize various aspects of the dataset, focusing on:\n",
    "\n",
    "- Distribution of compensation, coding experience, and work hours.\n",
    "\n",
    "- Relationships in compensation across age groups and work status.\n",
    "\n",
    "- Composition of data by desired databases and work environments.\n",
    "\n",
    "- Comparisons of job satisfaction across years of experience.\n",
    "\n",
    "Histograms helped reveal patterns and distributions in the data, enhancing your understanding of developer demographics and preferences.\n"
   ]
  },
  {
   "cell_type": "markdown",
   "metadata": {},
   "source": [
    "## Authors:\n",
    "Ayushi Jain\n"
   ]
  },
  {
   "cell_type": "markdown",
   "metadata": {},
   "source": [
    "### Other Contributors:\n",
    "- Rav Ahuja\n",
    "- Lakshmi Holla\n",
    "- Malika\n"
   ]
  },
  {
   "cell_type": "markdown",
   "metadata": {},
   "source": [
    "Copyright © IBM Corporation. All rights reserved.\n"
   ]
  }
 ],
 "metadata": {
  "kernelspec": {
   "display_name": "Python 3 (ipykernel)",
   "language": "python",
   "name": "python3"
  },
  "language_info": {
   "codemirror_mode": {
    "name": "ipython",
    "version": 3
   },
   "file_extension": ".py",
   "mimetype": "text/x-python",
   "name": "python",
   "nbconvert_exporter": "python",
   "pygments_lexer": "ipython3",
   "version": "3.11.9"
  },
  "prev_pub_hash": "96337e0806230d5187f9ae047a46e5046c13ed59019c1578bf93b4db5d0dcf76"
 },
 "nbformat": 4,
 "nbformat_minor": 4
}
