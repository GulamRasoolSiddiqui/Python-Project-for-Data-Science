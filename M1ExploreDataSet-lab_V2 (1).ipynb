{
  "metadata": {
    "kernelspec": {
      "name": "python",
      "display_name": "Python (Pyodide)",
      "language": "python"
    },
    "language_info": {
      "codemirror_mode": {
        "name": "python",
        "version": 3
      },
      "file_extension": ".py",
      "mimetype": "text/x-python",
      "name": "python",
      "nbconvert_exporter": "python",
      "pygments_lexer": "ipython3",
      "version": "3.8"
    },
    "prev_pub_hash": "75f9cbe799d7bcd81dfecdbcf1653c6ad01ca54b63272be450af5e5346a76987"
  },
  "nbformat_minor": 4,
  "nbformat": 4,
  "cells": [
    {
      "cell_type": "markdown",
      "source": "<p style=\"text-align:center\">\n    <a href=\"https://skills.network\" target=\"_blank\">\n    <img src=\"https://cf-courses-data.s3.us.cloud-object-storage.appdomain.cloud/assets/logos/SN_web_lightmode.png\" width=\"200\" alt=\"Skills Network Logo\"  />\n    </a>\n</p>\n",
      "metadata": {}
    },
    {
      "cell_type": "markdown",
      "source": "# **Lab: Exploring the Dataset**\n",
      "metadata": {}
    },
    {
      "cell_type": "markdown",
      "source": "Estimated time needed: **30** minutes\n",
      "metadata": {}
    },
    {
      "cell_type": "markdown",
      "source": "## Introduction\n",
      "metadata": {}
    },
    {
      "cell_type": "markdown",
      "source": "Data exploration is the initial phase of data analysis where we aim to understand the data's characteristics, identify patterns, and uncover potential insights. It is a crucial step that helps us make informed decisions about subsequent analysis.\n",
      "metadata": {}
    },
    {
      "cell_type": "markdown",
      "source": "## Objectives\n",
      "metadata": {}
    },
    {
      "cell_type": "markdown",
      "source": "After completing this lab, you will be able to:\n",
      "metadata": {}
    },
    {
      "cell_type": "markdown",
      "source": "-   Summarize the key characteristics of a dataset.\n-   Identify different data types commonly used in data analysis.\n",
      "metadata": {}
    },
    {
      "cell_type": "markdown",
      "source": "### Install the required library\n",
      "metadata": {}
    },
    {
      "cell_type": "code",
      "source": "import micropip\n\nawait micropip.install('pandas')\n\n# Import pandas after installation\nimport pandas as pd\nprint(pd.__version__)\n",
      "metadata": {
        "trusted": true
      },
      "outputs": [
        {
          "name": "stderr",
          "text": "<ipython-input-1-4a848102c67d>:6: DeprecationWarning: \nPyarrow will become a required dependency of pandas in the next major release of pandas (pandas 3.0),\n(to allow more performant data types, such as the Arrow string type, and better interoperability with other libraries)\nbut was not found to be installed on your system.\nIf this would cause problems for you,\nplease provide us feedback at https://github.com/pandas-dev/pandas/issues/54466\n        \n  import pandas as pd\n",
          "output_type": "stream"
        },
        {
          "name": "stdout",
          "text": "2.2.0\n",
          "output_type": "stream"
        }
      ],
      "execution_count": 1
    },
    {
      "cell_type": "markdown",
      "source": "## Load the dataset\n",
      "metadata": {}
    },
    {
      "cell_type": "markdown",
      "source": "<h3>Read Data</h3>\n<p>\nWe utilize the <code>pandas.read_csv()</code> function for reading CSV files. However, in this version of the lab, which operates on JupyterLite, the dataset needs to be downloaded to the interface using the provided code below.\n</p>\n",
      "metadata": {}
    },
    {
      "cell_type": "markdown",
      "source": "The functions below will download the dataset into your browser:\n",
      "metadata": {}
    },
    {
      "cell_type": "code",
      "source": "from pyodide.http import pyfetch\n\nasync def download(url, filename):\n    response = await pyfetch(url)\n    if response.status == 200:\n        with open(filename, \"wb\") as f:\n            f.write(await response.bytes())",
      "metadata": {
        "trusted": true
      },
      "outputs": [],
      "execution_count": 2
    },
    {
      "cell_type": "code",
      "source": "file_path = \"https://cf-courses-data.s3.us.cloud-object-storage.appdomain.cloud/n01PQ9pSmiRX6520flujwQ/survey-data.csv\"",
      "metadata": {
        "trusted": true
      },
      "outputs": [],
      "execution_count": 3
    },
    {
      "cell_type": "markdown",
      "source": "To obtain the dataset, utilize the download() function as defined above:  \n",
      "metadata": {}
    },
    {
      "cell_type": "code",
      "source": "await download(file_path, \"survey_data.csv\")\nfile_name=\"survey_data.csv\"",
      "metadata": {
        "trusted": true
      },
      "outputs": [],
      "execution_count": 4
    },
    {
      "cell_type": "markdown",
      "source": "Utilize the Pandas method read_csv() to load the data into a dataframe.\n",
      "metadata": {}
    },
    {
      "cell_type": "code",
      "source": "df = pd.read_csv(file_name)",
      "metadata": {
        "trusted": true
      },
      "outputs": [],
      "execution_count": 5
    },
    {
      "cell_type": "markdown",
      "source": "> Note: This version of the lab is working on JupyterLite, which requires the dataset to be downloaded to the interface.While working on the downloaded version of this notebook on their local machines(Jupyter Anaconda), the learners can simply **skip the steps above,** and simply use the URL directly in the `pandas.read_csv()` function. You can uncomment and run the statements in the cell below.\n",
      "metadata": {}
    },
    {
      "cell_type": "markdown",
      "source": "# Hands on Lab\n",
      "metadata": {}
    },
    {
      "cell_type": "markdown",
      "source": "## Explore the dataset\n",
      "metadata": {}
    },
    {
      "cell_type": "markdown",
      "source": "It is a good idea to print the top 5 rows of the dataset to get a feel of how the dataset will look.\n",
      "metadata": {}
    },
    {
      "cell_type": "markdown",
      "source": "Display the top 5 rows and columns from your dataset.\n",
      "metadata": {}
    },
    {
      "cell_type": "code",
      "source": "## Write your code here\ndf.head()",
      "metadata": {
        "trusted": true
      },
      "outputs": [
        {
          "execution_count": 6,
          "output_type": "execute_result",
          "data": {
            "text/plain": "   ResponseId                      MainBranch                 Age  \\\n0           1  I am a developer by profession  Under 18 years old   \n1           2  I am a developer by profession     35-44 years old   \n2           3  I am a developer by profession     45-54 years old   \n3           4           I am learning to code     18-24 years old   \n4           5  I am a developer by profession     18-24 years old   \n\n            Employment RemoteWork   Check  \\\n0  Employed, full-time     Remote  Apples   \n1  Employed, full-time     Remote  Apples   \n2  Employed, full-time     Remote  Apples   \n3   Student, full-time        NaN  Apples   \n4   Student, full-time        NaN  Apples   \n\n                                    CodingActivities  \\\n0                                              Hobby   \n1  Hobby;Contribute to open-source projects;Other...   \n2  Hobby;Contribute to open-source projects;Other...   \n3                                                NaN   \n4                                                NaN   \n\n                                             EdLevel  \\\n0                          Primary/elementary school   \n1       Bachelor’s degree (B.A., B.S., B.Eng., etc.)   \n2    Master’s degree (M.A., M.S., M.Eng., MBA, etc.)   \n3  Some college/university study without earning ...   \n4  Secondary school (e.g. American high school, G...   \n\n                                           LearnCode  \\\n0                             Books / Physical media   \n1  Books / Physical media;Colleague;On the job tr...   \n2  Books / Physical media;Colleague;On the job tr...   \n3  Other online resources (e.g., videos, blogs, f...   \n4  Other online resources (e.g., videos, blogs, f...   \n\n                                     LearnCodeOnline  ... JobSatPoints_6  \\\n0                                                NaN  ...            NaN   \n1  Technical documentation;Blogs;Books;Written Tu...  ...            0.0   \n2  Technical documentation;Blogs;Books;Written Tu...  ...            NaN   \n3  Stack Overflow;How-to videos;Interactive tutorial  ...            NaN   \n4  Technical documentation;Blogs;Written Tutorial...  ...            NaN   \n\n  JobSatPoints_7 JobSatPoints_8 JobSatPoints_9 JobSatPoints_10  \\\n0            NaN            NaN            NaN             NaN   \n1            0.0            0.0            0.0             0.0   \n2            NaN            NaN            NaN             NaN   \n3            NaN            NaN            NaN             NaN   \n4            NaN            NaN            NaN             NaN   \n\n  JobSatPoints_11           SurveyLength SurveyEase ConvertedCompYearly JobSat  \n0             NaN                    NaN        NaN                 NaN    NaN  \n1             0.0                    NaN        NaN                 NaN    NaN  \n2             NaN  Appropriate in length       Easy                 NaN    NaN  \n3             NaN               Too long       Easy                 NaN    NaN  \n4             NaN              Too short       Easy                 NaN    NaN  \n\n[5 rows x 114 columns]",
            "text/html": "<div>\n<style scoped>\n    .dataframe tbody tr th:only-of-type {\n        vertical-align: middle;\n    }\n\n    .dataframe tbody tr th {\n        vertical-align: top;\n    }\n\n    .dataframe thead th {\n        text-align: right;\n    }\n</style>\n<table border=\"1\" class=\"dataframe\">\n  <thead>\n    <tr style=\"text-align: right;\">\n      <th></th>\n      <th>ResponseId</th>\n      <th>MainBranch</th>\n      <th>Age</th>\n      <th>Employment</th>\n      <th>RemoteWork</th>\n      <th>Check</th>\n      <th>CodingActivities</th>\n      <th>EdLevel</th>\n      <th>LearnCode</th>\n      <th>LearnCodeOnline</th>\n      <th>...</th>\n      <th>JobSatPoints_6</th>\n      <th>JobSatPoints_7</th>\n      <th>JobSatPoints_8</th>\n      <th>JobSatPoints_9</th>\n      <th>JobSatPoints_10</th>\n      <th>JobSatPoints_11</th>\n      <th>SurveyLength</th>\n      <th>SurveyEase</th>\n      <th>ConvertedCompYearly</th>\n      <th>JobSat</th>\n    </tr>\n  </thead>\n  <tbody>\n    <tr>\n      <th>0</th>\n      <td>1</td>\n      <td>I am a developer by profession</td>\n      <td>Under 18 years old</td>\n      <td>Employed, full-time</td>\n      <td>Remote</td>\n      <td>Apples</td>\n      <td>Hobby</td>\n      <td>Primary/elementary school</td>\n      <td>Books / Physical media</td>\n      <td>NaN</td>\n      <td>...</td>\n      <td>NaN</td>\n      <td>NaN</td>\n      <td>NaN</td>\n      <td>NaN</td>\n      <td>NaN</td>\n      <td>NaN</td>\n      <td>NaN</td>\n      <td>NaN</td>\n      <td>NaN</td>\n      <td>NaN</td>\n    </tr>\n    <tr>\n      <th>1</th>\n      <td>2</td>\n      <td>I am a developer by profession</td>\n      <td>35-44 years old</td>\n      <td>Employed, full-time</td>\n      <td>Remote</td>\n      <td>Apples</td>\n      <td>Hobby;Contribute to open-source projects;Other...</td>\n      <td>Bachelor’s degree (B.A., B.S., B.Eng., etc.)</td>\n      <td>Books / Physical media;Colleague;On the job tr...</td>\n      <td>Technical documentation;Blogs;Books;Written Tu...</td>\n      <td>...</td>\n      <td>0.0</td>\n      <td>0.0</td>\n      <td>0.0</td>\n      <td>0.0</td>\n      <td>0.0</td>\n      <td>0.0</td>\n      <td>NaN</td>\n      <td>NaN</td>\n      <td>NaN</td>\n      <td>NaN</td>\n    </tr>\n    <tr>\n      <th>2</th>\n      <td>3</td>\n      <td>I am a developer by profession</td>\n      <td>45-54 years old</td>\n      <td>Employed, full-time</td>\n      <td>Remote</td>\n      <td>Apples</td>\n      <td>Hobby;Contribute to open-source projects;Other...</td>\n      <td>Master’s degree (M.A., M.S., M.Eng., MBA, etc.)</td>\n      <td>Books / Physical media;Colleague;On the job tr...</td>\n      <td>Technical documentation;Blogs;Books;Written Tu...</td>\n      <td>...</td>\n      <td>NaN</td>\n      <td>NaN</td>\n      <td>NaN</td>\n      <td>NaN</td>\n      <td>NaN</td>\n      <td>NaN</td>\n      <td>Appropriate in length</td>\n      <td>Easy</td>\n      <td>NaN</td>\n      <td>NaN</td>\n    </tr>\n    <tr>\n      <th>3</th>\n      <td>4</td>\n      <td>I am learning to code</td>\n      <td>18-24 years old</td>\n      <td>Student, full-time</td>\n      <td>NaN</td>\n      <td>Apples</td>\n      <td>NaN</td>\n      <td>Some college/university study without earning ...</td>\n      <td>Other online resources (e.g., videos, blogs, f...</td>\n      <td>Stack Overflow;How-to videos;Interactive tutorial</td>\n      <td>...</td>\n      <td>NaN</td>\n      <td>NaN</td>\n      <td>NaN</td>\n      <td>NaN</td>\n      <td>NaN</td>\n      <td>NaN</td>\n      <td>Too long</td>\n      <td>Easy</td>\n      <td>NaN</td>\n      <td>NaN</td>\n    </tr>\n    <tr>\n      <th>4</th>\n      <td>5</td>\n      <td>I am a developer by profession</td>\n      <td>18-24 years old</td>\n      <td>Student, full-time</td>\n      <td>NaN</td>\n      <td>Apples</td>\n      <td>NaN</td>\n      <td>Secondary school (e.g. American high school, G...</td>\n      <td>Other online resources (e.g., videos, blogs, f...</td>\n      <td>Technical documentation;Blogs;Written Tutorial...</td>\n      <td>...</td>\n      <td>NaN</td>\n      <td>NaN</td>\n      <td>NaN</td>\n      <td>NaN</td>\n      <td>NaN</td>\n      <td>NaN</td>\n      <td>Too short</td>\n      <td>Easy</td>\n      <td>NaN</td>\n      <td>NaN</td>\n    </tr>\n  </tbody>\n</table>\n<p>5 rows × 114 columns</p>\n</div>"
          },
          "metadata": {}
        }
      ],
      "execution_count": 6
    },
    {
      "cell_type": "markdown",
      "source": "## Find out the number of rows and columns\n",
      "metadata": {}
    },
    {
      "cell_type": "markdown",
      "source": "Start by exploring the numbers of rows and columns of data in the dataset.\n",
      "metadata": {}
    },
    {
      "cell_type": "markdown",
      "source": "Print the number of rows in the dataset.\n",
      "metadata": {}
    },
    {
      "cell_type": "code",
      "source": "## Write your code here\nrow=df.shape[0]\nrow",
      "metadata": {
        "trusted": true
      },
      "outputs": [
        {
          "execution_count": 7,
          "output_type": "execute_result",
          "data": {
            "text/plain": "65437"
          },
          "metadata": {}
        }
      ],
      "execution_count": 7
    },
    {
      "cell_type": "markdown",
      "source": "Print the number of columns in the dataset.\n",
      "metadata": {}
    },
    {
      "cell_type": "code",
      "source": "## Write your code here\ncol=df.shape[1]\ncol\n",
      "metadata": {
        "trusted": true
      },
      "outputs": [
        {
          "execution_count": 9,
          "output_type": "execute_result",
          "data": {
            "text/plain": "114"
          },
          "metadata": {}
        }
      ],
      "execution_count": 9
    },
    {
      "cell_type": "markdown",
      "source": "## Identify the data types of each column\n",
      "metadata": {}
    },
    {
      "cell_type": "markdown",
      "source": "Explore the dataset and identify the data types of each column.\n",
      "metadata": {}
    },
    {
      "cell_type": "markdown",
      "source": "Print the datatype of all columns.\n",
      "metadata": {}
    },
    {
      "cell_type": "code",
      "source": "## Write your code here\ndf.dtypes",
      "metadata": {
        "trusted": true
      },
      "outputs": [
        {
          "execution_count": 10,
          "output_type": "execute_result",
          "data": {
            "text/plain": "ResponseId               int64\nMainBranch              object\nAge                     object\nEmployment              object\nRemoteWork              object\n                        ...   \nJobSatPoints_11        float64\nSurveyLength            object\nSurveyEase              object\nConvertedCompYearly    float64\nJobSat                 float64\nLength: 114, dtype: object"
          },
          "metadata": {}
        }
      ],
      "execution_count": 10
    },
    {
      "cell_type": "code",
      "source": "column_data_types = [(col, df[col].dtype) for col in df.columns]\nprint(sorted(column_data_types, key=lambda x: x[0]))",
      "metadata": {
        "trusted": true
      },
      "outputs": [
        {
          "name": "stdout",
          "text": "[('AIAcc', dtype('O')), ('AIBen', dtype('O')), ('AIChallenges', dtype('O')), ('AIComplex', dtype('O')), ('AIEthics', dtype('O')), ('AINextLess integrated', dtype('O')), ('AINextMore integrated', dtype('O')), ('AINextMuch less integrated', dtype('O')), ('AINextMuch more integrated', dtype('O')), ('AINextNo change', dtype('O')), ('AISearchDevAdmired', dtype('O')), ('AISearchDevHaveWorkedWith', dtype('O')), ('AISearchDevWantToWorkWith', dtype('O')), ('AISelect', dtype('O')), ('AISent', dtype('O')), ('AIThreat', dtype('O')), ('AIToolCurrently Using', dtype('O')), ('AIToolInterested in Using', dtype('O')), ('AIToolNot interested in Using', dtype('O')), ('Age', dtype('O')), ('BuildvsBuy', dtype('O')), ('BuyNewTool', dtype('O')), ('Check', dtype('O')), ('CodingActivities', dtype('O')), ('CompTotal', dtype('float64')), ('ConvertedCompYearly', dtype('float64')), ('Country', dtype('O')), ('Currency', dtype('O')), ('DatabaseAdmired', dtype('O')), ('DatabaseHaveWorkedWith', dtype('O')), ('DatabaseWantToWorkWith', dtype('O')), ('DevType', dtype('O')), ('EdLevel', dtype('O')), ('EmbeddedAdmired', dtype('O')), ('EmbeddedHaveWorkedWith', dtype('O')), ('EmbeddedWantToWorkWith', dtype('O')), ('Employment', dtype('O')), ('Frequency_1', dtype('O')), ('Frequency_2', dtype('O')), ('Frequency_3', dtype('O')), ('Frustration', dtype('O')), ('ICorPM', dtype('O')), ('Industry', dtype('O')), ('JobSat', dtype('float64')), ('JobSatPoints_1', dtype('float64')), ('JobSatPoints_10', dtype('float64')), ('JobSatPoints_11', dtype('float64')), ('JobSatPoints_4', dtype('float64')), ('JobSatPoints_5', dtype('float64')), ('JobSatPoints_6', dtype('float64')), ('JobSatPoints_7', dtype('float64')), ('JobSatPoints_8', dtype('float64')), ('JobSatPoints_9', dtype('float64')), ('Knowledge_1', dtype('O')), ('Knowledge_2', dtype('O')), ('Knowledge_3', dtype('O')), ('Knowledge_4', dtype('O')), ('Knowledge_5', dtype('O')), ('Knowledge_6', dtype('O')), ('Knowledge_7', dtype('O')), ('Knowledge_8', dtype('O')), ('Knowledge_9', dtype('O')), ('LanguageAdmired', dtype('O')), ('LanguageHaveWorkedWith', dtype('O')), ('LanguageWantToWorkWith', dtype('O')), ('LearnCode', dtype('O')), ('LearnCodeOnline', dtype('O')), ('MainBranch', dtype('O')), ('MiscTechAdmired', dtype('O')), ('MiscTechHaveWorkedWith', dtype('O')), ('MiscTechWantToWorkWith', dtype('O')), ('NEWCollabToolsAdmired', dtype('O')), ('NEWCollabToolsHaveWorkedWith', dtype('O')), ('NEWCollabToolsWantToWorkWith', dtype('O')), ('NEWSOSites', dtype('O')), ('OfficeStackAsyncAdmired', dtype('O')), ('OfficeStackAsyncHaveWorkedWith', dtype('O')), ('OfficeStackAsyncWantToWorkWith', dtype('O')), ('OfficeStackSyncAdmired', dtype('O')), ('OfficeStackSyncHaveWorkedWith', dtype('O')), ('OfficeStackSyncWantToWorkWith', dtype('O')), ('OpSysPersonal use', dtype('O')), ('OpSysProfessional use', dtype('O')), ('OrgSize', dtype('O')), ('PlatformAdmired', dtype('O')), ('PlatformHaveWorkedWith', dtype('O')), ('PlatformWantToWorkWith', dtype('O')), ('ProfessionalCloud', dtype('O')), ('ProfessionalQuestion', dtype('O')), ('ProfessionalTech', dtype('O')), ('PurchaseInfluence', dtype('O')), ('RemoteWork', dtype('O')), ('ResponseId', dtype('int64')), ('SOAccount', dtype('O')), ('SOComm', dtype('O')), ('SOHow', dtype('O')), ('SOPartFreq', dtype('O')), ('SOVisitFreq', dtype('O')), ('SurveyEase', dtype('O')), ('SurveyLength', dtype('O')), ('TBranch', dtype('O')), ('TechDoc', dtype('O')), ('TechEndorse', dtype('O')), ('TimeAnswering', dtype('O')), ('TimeSearching', dtype('O')), ('ToolsTechAdmired', dtype('O')), ('ToolsTechHaveWorkedWith', dtype('O')), ('ToolsTechWantToWorkWith', dtype('O')), ('WebframeAdmired', dtype('O')), ('WebframeHaveWorkedWith', dtype('O')), ('WebframeWantToWorkWith', dtype('O')), ('WorkExp', dtype('float64')), ('YearsCode', dtype('O')), ('YearsCodePro', dtype('O'))]\n",
          "output_type": "stream"
        }
      ],
      "execution_count": 13
    },
    {
      "cell_type": "markdown",
      "source": "Print the mean age of the survey participants.\n",
      "metadata": {}
    },
    {
      "cell_type": "code",
      "source": "import re\ndef extract_age_range(range_str):\n    # Regex pattern to extract numbers from the string\n    numbers = re.findall(r'\\d+', range_str)\n    \n    if len(numbers) == 2:  # \"greater than X to less than Y\"\n        min_age, max_age = map(int, numbers)\n        return (min_age, max_age)\n    elif len(numbers) == 1:  # \"greater than X\"\n        return (int(numbers[0]), float('inf'))  # No upper limit\n    else:\n        return (None, None)  # Handle unexpected case",
      "metadata": {
        "trusted": true
      },
      "outputs": [],
      "execution_count": 19
    },
    {
      "cell_type": "code",
      "source": "distinct_age = df['Age'].drop_duplicates().sort_values()\ndistinct_age",
      "metadata": {
        "trusted": true
      },
      "outputs": [
        {
          "execution_count": 34,
          "output_type": "execute_result",
          "data": {
            "text/plain": "3        18-24 years old\n14       25-34 years old\n1        35-44 years old\n2        45-54 years old\n23       55-64 years old\n48     65 years or older\n30     Prefer not to say\n0     Under 18 years old\nName: Age, dtype: object"
          },
          "metadata": {}
        }
      ],
      "execution_count": 34
    },
    {
      "cell_type": "code",
      "source": "age_midpoints = {\n     'Under 18 years old': 17,\n        '18-24 years old': 21,\n        '25-34 years old': 29.5,\n        '35-44 years old': 39.5,\n        '45-54 years old': 49.5,\n        '55-64 years old': 59.5,\n        '65 years or older': 65,\n        'Prefer not to say': None  # We'll exclude this one from the mean calculation\n}",
      "metadata": {
        "trusted": true
      },
      "outputs": [],
      "execution_count": 54
    },
    {
      "cell_type": "code",
      "source": "## Write your code here\n#mean_age = df['Age'].mean()\n#mean_age\ndf['Age_Midpoint'] = df['Age'].map(age_midpoints)\n#df['age-rng']=df['Age'].apply(extract_age_range)#.tolist()\n#distinct_age_ranges=df['age-rng'].drop_duplicates().sort_values()\n#distinct_age_ranges\ndf['Age_Midpoint']\ndf_valid_ages = df['Age_Midpoint'].dropna()\ndf_valid_ages\nsur_mean_age = df_valid_ages.mean()\nprint(f\"The mean age of the survey participants is : {sur_mean_age}\")",
      "metadata": {
        "trusted": true
      },
      "outputs": [
        {
          "name": "stdout",
          "text": "The mean age of the survey participants is : 32.9880288719957\n",
          "output_type": "stream"
        }
      ],
      "execution_count": 56
    },
    {
      "cell_type": "markdown",
      "source": "The dataset is the result of a world wide survey. Print how many unique countries are there in the Country column.\n",
      "metadata": {}
    },
    {
      "cell_type": "code",
      "source": "df['Country'].unique()",
      "metadata": {
        "trusted": true
      },
      "outputs": [
        {
          "execution_count": 46,
          "output_type": "execute_result",
          "data": {
            "text/plain": "array(['United States of America',\n       'United Kingdom of Great Britain and Northern Ireland', 'Canada',\n       'Norway', 'Uzbekistan', 'Serbia', 'Poland', 'Philippines',\n       'Bulgaria', 'Switzerland', 'India', 'Germany', 'Ireland', 'Italy',\n       'Ukraine', 'Australia', 'Brazil', 'Japan', 'Austria',\n       'Iran, Islamic Republic of...', 'France', 'Saudi Arabia',\n       'Romania', 'Turkey', 'Nepal', 'Algeria', 'Sweden', 'Netherlands',\n       'Croatia', 'Pakistan', 'Czech Republic',\n       'Republic of North Macedonia', 'Finland', 'Slovakia',\n       'Russian Federation', 'Greece', 'Israel', 'Belgium', 'Mexico',\n       'United Republic of Tanzania', 'Hungary', 'Argentina', 'Portugal',\n       'Sri Lanka', 'Latvia', 'China', 'Singapore', 'Lebanon', 'Spain',\n       'South Africa', 'Lithuania', 'Viet Nam', 'Dominican Republic',\n       'Indonesia', 'Kosovo', 'Morocco', 'Taiwan', 'Georgia',\n       'San Marino', 'Tunisia', 'Bangladesh', 'Nigeria', 'Liechtenstein',\n       'Denmark', 'Ecuador', 'Malaysia', 'Albania', 'Azerbaijan', 'Chile',\n       'Ghana', 'Peru', 'Bolivia', 'Egypt', 'Luxembourg', 'Montenegro',\n       'Cyprus', 'Paraguay', 'Kazakhstan', 'Slovenia', 'Jordan',\n       'Venezuela, Bolivarian Republic of...', 'Costa Rica', 'Jamaica',\n       'Thailand', 'Nicaragua', 'Myanmar', 'Republic of Korea', 'Rwanda',\n       'Bosnia and Herzegovina', 'Benin', 'El Salvador', 'Zimbabwe',\n       'Afghanistan', 'Estonia', 'Malta', 'Uruguay', 'Belarus',\n       'Colombia', 'Republic of Moldova', 'Isle of Man', 'Nomadic',\n       'New Zealand', 'Palestine', 'Armenia', 'United Arab Emirates',\n       'Maldives', 'Ethiopia', 'Fiji', 'Guatemala', 'Uganda',\n       'Turkmenistan', 'Mauritius', 'Kenya', 'Cuba', 'Gabon', 'Bahamas',\n       'South Korea', 'Iceland', 'Honduras', 'Hong Kong (S.A.R.)',\n       \"Lao People's Democratic Republic\", 'Mongolia', 'Cambodia',\n       'Madagascar', 'Angola', 'Democratic Republic of the Congo',\n       'Syrian Arab Republic', 'Iraq', 'Namibia', 'Senegal', 'Kyrgyzstan',\n       'Zambia', 'Swaziland', \"Côte d'Ivoire\", 'Kuwait', 'Tajikistan',\n       'Burundi', 'Trinidad and Tobago', 'Mauritania', 'Sierra Leone',\n       'Panama', 'Somalia', 'North Korea', 'Dominica', 'Guyana', 'Togo',\n       'Oman', 'Barbados', 'Andorra',\n       \"Democratic People's Republic of Korea\", 'Qatar', 'Sudan',\n       'Cameroon', 'Papua New Guinea', 'Bahrain', 'Yemen', 'Malawi',\n       'Burkina Faso', 'Congo, Republic of the...', 'Botswana',\n       'Guinea-Bissau', 'Mozambique', 'Central African Republic',\n       'Equatorial Guinea', 'Suriname', 'Belize',\n       'Libyan Arab Jamahiriya', 'Cape Verde', 'Brunei Darussalam',\n       'Bhutan', 'Guinea', 'Niger', 'Antigua and Barbuda', 'Mali',\n       'Samoa', 'Lesotho', 'Saint Kitts and Nevis', 'Monaco',\n       'Micronesia, Federated States of...', 'Haiti', nan, 'Nauru',\n       'Liberia', 'Chad', 'Djibouti', 'Solomon Islands'], dtype=object)"
          },
          "metadata": {}
        }
      ],
      "execution_count": 46
    },
    {
      "cell_type": "code",
      "source": "len(df['Country'].dropna().unique())",
      "metadata": {
        "trusted": true
      },
      "outputs": [
        {
          "execution_count": 48,
          "output_type": "execute_result",
          "data": {
            "text/plain": "185"
          },
          "metadata": {}
        }
      ],
      "execution_count": 48
    },
    {
      "cell_type": "code",
      "source": "## Write your code here\ncountry_counts = df['Country'].value_counts()\nprint(country_counts)\n\ncolumn_data_types = [(Country, col) for Country, col in df['Country'].value_counts().items()]\nprint(column_data_types)",
      "metadata": {
        "trusted": true
      },
      "outputs": [
        {
          "name": "stdout",
          "text": "Country\nUnited States of America                                11095\nGermany                                                  4947\nIndia                                                    4231\nUnited Kingdom of Great Britain and Northern Ireland     3224\nUkraine                                                  2672\n                                                        ...  \nCentral African Republic                                    1\nEquatorial Guinea                                           1\nNiger                                                       1\nGuinea                                                      1\nSolomon Islands                                             1\nName: count, Length: 185, dtype: int64\n[('United States of America', 11095), ('Germany', 4947), ('India', 4231), ('United Kingdom of Great Britain and Northern Ireland', 3224), ('Ukraine', 2672), ('France', 2110), ('Canada', 2104), ('Poland', 1534), ('Netherlands', 1449), ('Brazil', 1375), ('Italy', 1341), ('Australia', 1260), ('Spain', 1123), ('Sweden', 1016), ('Russian Federation', 925), ('Switzerland', 876), ('Austria', 791), ('Czech Republic', 714), ('Israel', 604), ('Turkey', 546), ('Belgium', 526), ('Denmark', 504), ('Portugal', 470), ('Norway', 450), ('Romania', 439), ('Pakistan', 415), ('Iran, Islamic Republic of...', 411), ('China', 406), ('Mexico', 402), ('New Zealand', 396), ('Hungary', 396), ('Greece', 389), ('Finland', 386), ('South Africa', 358), ('Indonesia', 354), ('Argentina', 345), ('Bangladesh', 327), ('Bulgaria', 319), ('Nigeria', 305), ('Viet Nam', 296), ('Japan', 288), ('Ireland', 270), ('Taiwan', 268), ('Egypt', 262), ('Slovakia', 248), ('Serbia', 245), ('Colombia', 217), ('Philippines', 196), ('Croatia', 187), ('Lithuania', 183), ('Kenya', 180), ('Singapore', 177), ('Sri Lanka', 163), ('Malaysia', 161), ('Thailand', 147), ('Hong Kong (S.A.R.)', 146), ('South Korea', 146), ('Slovenia', 142), ('Nepal', 139), ('Chile', 133), ('United Arab Emirates', 130), ('Latvia', 128), ('Estonia', 110), ('Morocco', 98), ('Belarus', 97), ('Uruguay', 94), ('Georgia', 94), ('Kazakhstan', 81), ('Algeria', 77), ('Peru', 75), ('Tunisia', 71), ('Ghana', 70), ('Venezuela, Bolivarian Republic of...', 69), ('Cyprus', 63), ('Uzbekistan', 62), ('Bosnia and Herzegovina', 62), ('Ethiopia', 60), ('Armenia', 58), ('Republic of Korea', 57), ('Afghanistan', 56), ('Saudi Arabia', 56), ('Ecuador', 54), ('Costa Rica', 54), ('Albania', 49), ('Dominican Republic', 47), ('Lebanon', 46), ('Iraq', 44), ('Kyrgyzstan', 44), ('Nomadic', 43), ('Guatemala', 41), ('Jordan', 40), ('Luxembourg', 40), ('Uganda', 39), ('Paraguay', 39), ('Republic of Moldova', 38), ('Republic of North Macedonia', 36), ('Bolivia', 32), ('Cameroon', 31), ('Iceland', 31), ('Syrian Arab Republic', 30), ('Malta', 29), ('United Republic of Tanzania', 28), ('Montenegro', 27), ('Azerbaijan', 27), ('Zimbabwe', 26), ('Cuba', 23), ('Cambodia', 22), ('Rwanda', 22), ('Myanmar', 21), ('Nicaragua', 21), ('Angola', 20), ('El Salvador', 19), ('Panama', 18), ('Kosovo', 18), ('Yemen', 18), ('Maldives', 16), ('Honduras', 16), ('Zambia', 15), ('Andorra', 15), ('Qatar', 15), ('Mauritius', 15), ('Palestine', 15), ('Madagascar', 14), (\"Côte d'Ivoire\", 14), ('Isle of Man', 13), ('Malawi', 12), ('Jamaica', 11), ('Benin', 11), ('Turkmenistan', 11), ('Bahrain', 11), ('Mongolia', 10), ('Senegal', 9), ('Somalia', 9), ('Togo', 9), ('Kuwait', 8), ('Oman', 8), ('Congo, Republic of the...', 8), ('Trinidad and Tobago', 8), ('Mozambique', 7), ('Tajikistan', 7), ('Sudan', 7), ('Barbados', 6), ('Mauritania', 5), ('Antigua and Barbuda', 5), ('Cape Verde', 5), ('Namibia', 5), ('Botswana', 5), ('Suriname', 5), ('Burkina Faso', 4), ('Liberia', 4), ('Libyan Arab Jamahiriya', 4), ('Swaziland', 4), ('Fiji', 4), ('Liechtenstein', 4), (\"Lao People's Democratic Republic\", 4), ('Bahamas', 4), ('Gabon', 4), ('Brunei Darussalam', 3), ('Guyana', 3), ('North Korea', 3), ('Sierra Leone', 3), ('Burundi', 3), ('Democratic Republic of the Congo', 3), ('Monaco', 3), ('San Marino', 3), ('Bhutan', 3), ('Mali', 2), (\"Democratic People's Republic of Korea\", 2), ('Guinea-Bissau', 2), ('Belize', 2), ('Papua New Guinea', 1), ('Djibouti', 1), ('Chad', 1), ('Dominica', 1), ('Nauru', 1), ('Haiti', 1), ('Micronesia, Federated States of...', 1), ('Saint Kitts and Nevis', 1), ('Lesotho', 1), ('Samoa', 1), ('Central African Republic', 1), ('Equatorial Guinea', 1), ('Niger', 1), ('Guinea', 1), ('Solomon Islands', 1)]\n",
          "output_type": "stream"
        }
      ],
      "execution_count": 45
    },
    {
      "cell_type": "markdown",
      "source": "Copyright ©  IBM Corporation. All rights reserved.\n",
      "metadata": {}
    }
  ]
}